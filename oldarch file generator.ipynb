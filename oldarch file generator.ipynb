{
 "cells": [
  {
   "cell_type": "code",
   "execution_count": 1,
   "id": "84af1a2d",
   "metadata": {},
   "outputs": [],
   "source": [
    "head = []\n",
    "for i in range(4):\n",
    "    head.append(\"C_\"+str(i)+\" \")\n",
    "for i in range(16):\n",
    "        head.append(\"LC_\"+str(i)+\" \")\n",
    "for i in range(3):\n",
    "    head.append(\"X\"+str(i+1)+\" \")\n",
    "for i in range(8):\n",
    "    for k in range(16):\n",
    "        head.append(\"B_\"+str(i*16+k)+\" \")\n",
    "    for l in range(3):\n",
    "        head.append(\"X\"+str(l+1)+\" \")"
   ]
  },
  {
   "cell_type": "code",
   "execution_count": 2,
   "id": "85751885",
   "metadata": {},
   "outputs": [],
   "source": [
    "import os"
   ]
  },
  {
   "cell_type": "code",
   "execution_count": 3,
   "id": "3d7d4b22",
   "metadata": {},
   "outputs": [],
   "source": [
    "def powerfile(banks, cores):\n",
    "    line = []\n",
    "    for i in range(4):\n",
    "        line.append(str(cores)+\" \")\n",
    "    for i in range(16):\n",
    "            line.append(str(0.272)+\" \")\n",
    "    for i in range(3):\n",
    "        line.append(str(0.0)+\" \")\n",
    "    for i in range(8):\n",
    "        for k in range(16):\n",
    "            line.append(str(banks)+\" \")\n",
    "        for l in range(3):\n",
    "            line.append(str(0.0)+\" \")\n",
    "    return line"
   ]
  },
  {
   "cell_type": "code",
   "execution_count": 4,
   "id": "7a8eba48",
   "metadata": {},
   "outputs": [],
   "source": [
    "for i in range(1,9):\n",
    "    path2 = \"/home/praveen/Downloads/CoMeT-main/hotspot_tool/oldarch/test\"+str(i+1)\n",
    "    os.mkdir(path2)\n",
    "    for j in range(12):\n",
    "        path3 = \"/home/praveen/Downloads/CoMeT-main/hotspot_tool/oldarch/test\"+str(i+1)+\"/\"+str(j+1)\n",
    "        os.mkdir(path3)"
   ]
  },
  {
   "cell_type": "code",
   "execution_count": 5,
   "id": "4d509506",
   "metadata": {},
   "outputs": [],
   "source": [
    "bank = [0.005,0.01,0.05,0.1,0.15,0.2,0.25,0.27,0.3]\n",
    "core = [1,2,3,4,5,6,7,8,9,10,11,12]\n",
    "for i in range(1,9):\n",
    "    for j in range(12):\n",
    "        ff = open(\"/home/praveen/Downloads/CoMeT-main/hotspot_tool/oldarch/test\"+str(i+1)+\"/\"+str(j+1)+\"/mycsv2_5.trace\", \"w\")\n",
    "        ff.writelines(head)\n",
    "        ff.writelines(\"\\n\")\n",
    "        for h in range(500):\n",
    "            ff.writelines(powerfile(bank[i], core[j]))\n",
    "            ff.writelines(\"\\n\")"
   ]
  },
  {
   "cell_type": "code",
   "execution_count": null,
   "id": "17accaf0",
   "metadata": {},
   "outputs": [],
   "source": []
  }
 ],
 "metadata": {
  "kernelspec": {
   "display_name": "Python 3 (ipykernel)",
   "language": "python",
   "name": "python3"
  },
  "language_info": {
   "codemirror_mode": {
    "name": "ipython",
    "version": 3
   },
   "file_extension": ".py",
   "mimetype": "text/x-python",
   "name": "python",
   "nbconvert_exporter": "python",
   "pygments_lexer": "ipython3",
   "version": "3.8.10"
  }
 },
 "nbformat": 4,
 "nbformat_minor": 5
}
