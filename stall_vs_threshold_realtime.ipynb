{
 "cells": [
  {
   "cell_type": "code",
   "execution_count": null,
   "id": "10e48fbd",
   "metadata": {},
   "outputs": [],
   "source": [
    "stalls = []\n",
    "for i in range(75, 80):\n",
    "    files = open(\"/home/praveen/Downloads/CoMeT-main/hotspot_tool3/oldarch/t_thresh_gcc_\"+str(i)+\".trace\", 'r')\n",
    "    stalls.append(len(files.readlines())-998)\n",
    "print(stalls)"
   ]
  },
  {
   "cell_type": "code",
   "execution_count": null,
   "id": "f523d841",
   "metadata": {},
   "outputs": [],
   "source": [
    "stalls2 = []\n",
    "for i in range(75, 80):\n",
    "    files2 = open(\"/home/praveen/Downloads/CoMeT-main/hotspot_tool/oldarch/t_thresh_gcc_\"+str(i)+\".trace\", 'r')\n",
    "    stalls2.append(len(files2.readlines())-998)\n",
    "print(stalls2)"
   ]
  },
  {
   "cell_type": "code",
   "execution_count": null,
   "id": "ab9e8c3e",
   "metadata": {},
   "outputs": [],
   "source": [
    "import numpy as np"
   ]
  },
  {
   "cell_type": "code",
   "execution_count": null,
   "id": "ded6245c",
   "metadata": {},
   "outputs": [],
   "source": [
    "xaxis = [75,76,77,78,79]"
   ]
  },
  {
   "cell_type": "code",
   "execution_count": null,
   "id": "b914d815",
   "metadata": {},
   "outputs": [],
   "source": [
    "import matplotlib.pyplot as plt\n",
    "plt.plot(xaxis, stalls, label = \"HBM\")\n",
    "plt.plot(xaxis, stalls2, label = \"HMC\")\n",
    "plt.xlabel(\"threshold temperature in degree celsius\")\n",
    "plt.ylabel(\"number of stall cycles\")\n",
    "plt.grid()\n",
    "plt.xticks(np.arange(75, 80, 1))\n",
    "plt.yticks(np.arange(600, 1501, 100))\n",
    "plt.legend()"
   ]
  },
  {
   "cell_type": "code",
   "execution_count": null,
   "id": "2b871aeb",
   "metadata": {},
   "outputs": [],
   "source": []
  }
 ],
 "metadata": {
  "kernelspec": {
   "display_name": "Python 3 (ipykernel)",
   "language": "python",
   "name": "python3"
  },
  "language_info": {
   "codemirror_mode": {
    "name": "ipython",
    "version": 3
   },
   "file_extension": ".py",
   "mimetype": "text/x-python",
   "name": "python",
   "nbconvert_exporter": "python",
   "pygments_lexer": "ipython3",
   "version": "3.8.10"
  }
 },
 "nbformat": 4,
 "nbformat_minor": 5
}
